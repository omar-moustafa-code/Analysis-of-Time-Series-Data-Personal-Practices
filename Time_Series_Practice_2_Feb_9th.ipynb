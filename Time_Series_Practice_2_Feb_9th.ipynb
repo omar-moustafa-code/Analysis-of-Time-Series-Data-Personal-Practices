{
  "nbformat": 4,
  "nbformat_minor": 0,
  "metadata": {
    "colab": {
      "provenance": []
    },
    "kernelspec": {
      "name": "ir",
      "display_name": "R"
    },
    "language_info": {
      "name": "R"
    }
  },
  "cells": [
    {
      "cell_type": "code",
      "execution_count": null,
      "metadata": {
        "cellView": "form",
        "id": "kU8xpTg7jgh2"
      },
      "outputs": [],
      "source": [
        "# @title Time Series Practice 2 - Feb. 9th\n"
      ]
    },
    {
      "cell_type": "code",
      "source": [
        "# @title Load & View the Data\n"
      ],
      "metadata": {
        "cellView": "form",
        "id": "64CtFSxKkC1W"
      },
      "execution_count": null,
      "outputs": []
    },
    {
      "cell_type": "code",
      "source": [
        "# ‘scan’ is the same as read.csv, read.table, read.excel, etc., but it is used for UNIVARIATE data\n",
        "\n",
        "df = scan(\"quart.data.dat\")"
      ],
      "metadata": {
        "id": "H9DxS7hPj-DH"
      },
      "execution_count": null,
      "outputs": []
    },
    {
      "cell_type": "code",
      "source": [
        "head(df)"
      ],
      "metadata": {
        "id": "HxiY3RlFkIgX"
      },
      "execution_count": null,
      "outputs": []
    },
    {
      "cell_type": "code",
      "source": [
        "# @title Convert the Data to Time Series\n"
      ],
      "metadata": {
        "cellView": "form",
        "id": "1R8I52k5kg2f"
      },
      "execution_count": null,
      "outputs": []
    },
    {
      "cell_type": "code",
      "source": [
        "# ‘ts’ stands for time series\n",
        "\n",
        "# frequency = 4 because it is QUARTERLY data\n",
        "\n",
        "# ‘start’ refers to the starting point of the data collection where 1959 is the starting year and the second argument is 3 because\n",
        "# it starts in September which falls in the THIRD QUARTER of the year\n",
        "\n",
        "df_ts = ts.(df, frequency = 4, start = (1959, 3))"
      ],
      "metadata": {
        "id": "Y0x3Hyuwjp72"
      },
      "execution_count": null,
      "outputs": []
    },
    {
      "cell_type": "code",
      "source": [
        "# @title Plot the Time Series Data\n"
      ],
      "metadata": {
        "cellView": "form",
        "id": "kiPaT4SjkkPW"
      },
      "execution_count": null,
      "outputs": []
    },
    {
      "cell_type": "code",
      "source": [
        "plot.ts(df_ts)"
      ],
      "metadata": {
        "id": "VNZkF106j3cL"
      },
      "execution_count": null,
      "outputs": []
    },
    {
      "cell_type": "code",
      "source": [
        "# @title Simple Moving Average + Plot\n"
      ],
      "metadata": {
        "cellView": "form",
        "id": "QCuqiojJk7-5"
      },
      "execution_count": null,
      "outputs": []
    },
    {
      "cell_type": "code",
      "source": [
        "# Simple Moving Average (SMA) is used here as we give equal weights\n",
        "\n",
        "# The standard for SMA is that sides = 1 (the program will use past observations)\n",
        "\n",
        "# Below, n is equal to 4 because we are dealing with quarterly data\n",
        "\n",
        "n = 4\n",
        "\n",
        "df_ts.ma = filter(df_ts, filter = rep(1/n, n), sides = 1)\n",
        "\n",
        "plot.ts(df_ts.ma)"
      ],
      "metadata": {
        "id": "a-_rLmLjj5Dp"
      },
      "execution_count": null,
      "outputs": []
    },
    {
      "cell_type": "code",
      "source": [
        "# @title Centred Moving Average\n"
      ],
      "metadata": {
        "cellView": "form",
        "id": "-yBDAeIclKxh"
      },
      "execution_count": null,
      "outputs": []
    },
    {
      "cell_type": "code",
      "source": [
        "# To get the Centered Moving Average (CMA) for quarterly data we use the following:\n",
        "\n",
        "# The standard for CMA is that sides = 2\n",
        "\n",
        "# The first argument of 'filter' is equal to 1/(2*n), so in this case with quarterly data, it's 1/(2*4) which is 1/8\n",
        "# But if it was monthly data, for example, it would be 1/(2*12) which is 1/24\n",
        "\n",
        "df_ts.ma = filter(quartseries, filter = c(1/8, rep(1/n, n-1), 1/8), sides = 2)"
      ],
      "metadata": {
        "id": "6EKvyBCklNTR"
      },
      "execution_count": null,
      "outputs": []
    },
    {
      "cell_type": "code",
      "source": [],
      "metadata": {
        "id": "wMnikyNxljtW"
      },
      "execution_count": null,
      "outputs": []
    }
  ]
}